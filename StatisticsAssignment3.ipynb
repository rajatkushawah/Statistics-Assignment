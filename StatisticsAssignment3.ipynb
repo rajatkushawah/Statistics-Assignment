{
 "cells": [
  {
   "cell_type": "markdown",
   "id": "23c09d9c",
   "metadata": {},
   "source": [
    "que1- For a group of 7 people, find the probability that all 4 seasons (winter, spring, summer, fall) occur at least once each among their birthdays, assuming that all seasons are equally likely."
   ]
  },
  {
   "cell_type": "markdown",
   "id": "6da384bd",
   "metadata": {},
   "source": [
    "ans1- To find the probability that all 4 seasons occur at least once among the birthdays of a group of 7 people, we can consider the number of ways this can happen and divide it by the total number of possible outcomes.\n",
    "\n",
    "There are 4 seasons, and we want all 4 seasons to occur at least once. This means each person's birthday must fall in a different season.\n",
    "\n",
    "- For the first person, they can have their birthday in any of the 4 seasons, so there are 4 choices.\n",
    "- For the second person, they must have their birthday in one of the remaining 3 seasons, so there are 3 choices.\n",
    "- For the third person, there are 2 remaining seasons to choose from.\n",
    "- For the fourth person, there is only 1 remaining season to choose from.\n",
    "- For the remaining three people, they can have their birthdays in any season since the 4 seasons have already been covered.\n",
    "\n",
    "Therefore, the total number of ways that all 4 seasons occur at least once among the birthdays is `4 x 3 x 2 x 1 = 24`.\n",
    "\n",
    "Now, let's consider the total number of possible outcomes. Each person's birthday can fall in any of the 4 seasons, so there are 4 choices for each person.\n",
    "\n",
    "Therefore, the total number of possible outcomes is `4^7 = 16384`.\n",
    "\n",
    "Finally, the probability that all 4 seasons occur at least once among the birthdays of the 7 people is given by:\n",
    "\n",
    "`Probability = (Number of favorable outcomes) / (Total number of possible outcomes)` = `24 / 16384 ≈ 0.0014648`\n",
    "\n",
    "So, the probability is approximately `0.0014648`, or about `0.14648%`."
   ]
  },
  {
   "cell_type": "markdown",
   "id": "1e91f87c",
   "metadata": {},
   "source": [
    "que2- Alice attends a small college in which each class meets only once a week. She is deciding between 30 non-overlapping classes. There are 6 classes to choose from for each day of the week, Monday through Friday. Trusting in the benevolence of randomness, Alice decides to register for 7 randomly selected classes out of the 30, with all choices equally likely. What is the probability that she will have classes every day, Monday through Friday?"
   ]
  },
  {
   "cell_type": "markdown",
   "id": "3b32f1e8",
   "metadata": {},
   "source": [
    "ans2- To find the probability that Alice will have classes every day, Monday through Friday, we can calculate the number of favorable outcomes and divide it by the total number of possible outcomes.\n",
    "\n",
    "There are 5 days from Monday to Friday, and Alice wants to have classes on all 5 of these days. Since she is choosing 7 classes randomly, she needs to ensure that at least one class is chosen for each of these 5 days.\n",
    "\n",
    "Let's consider the number of favorable outcomes first. For each of the 5 days, Alice has 6 choices of classes. So, the number of favorable outcomes is 6^5, as each day has 6 possible choices.\n",
    "\n",
    "Now, let's consider the total number of possible outcomes. Alice is choosing 7 classes out of a total of 30 classes. So, the total number of possible outcomes is given by the binomial coefficient (30 choose 7), which can be calculated as \n",
    "`C(30, 7) = 2035800`.\n",
    "\n",
    "Therefore, the probability that Alice will have classes every day, Monday through Friday, is:\n",
    "\n",
    "`Probability = (Number of favorable outcomes) / (Total number of possible outcomes)` = `(6^5) / 2035800 ≈ 0.000008525`\n",
    "\n",
    "So, the probability is approximately `0.000008525`, or about `0.0008525%`."
   ]
  }
 ],
 "metadata": {
  "kernelspec": {
   "display_name": "Python 3 (ipykernel)",
   "language": "python",
   "name": "python3"
  },
  "language_info": {
   "codemirror_mode": {
    "name": "ipython",
    "version": 3
   },
   "file_extension": ".py",
   "mimetype": "text/x-python",
   "name": "python",
   "nbconvert_exporter": "python",
   "pygments_lexer": "ipython3",
   "version": "3.9.7"
  }
 },
 "nbformat": 4,
 "nbformat_minor": 5
}
