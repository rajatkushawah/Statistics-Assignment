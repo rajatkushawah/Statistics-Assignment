{
 "cells": [
  {
   "cell_type": "markdown",
   "id": "a8752a34",
   "metadata": {},
   "source": [
    "que1- A group of n 2 people decide to play an exciting game of Rock-Paper Scissors. As you may recall, Rock smashes Scissors, Scissors cuts Paper, and Paper covers Rock (despite Bart Simpson saying “Good old rock, nothing beats that!”). Usually, this game is played with 2 players, but it can be extended to more players as follows. If exactly 2 of the 3 choices appear when everyone reveals their choice, say a, b 2 {Rock, P aper, Scissors} where a beats\n",
    "b, the game is decisive: the players who chose a win, and the players who chose b lose. Otherwise, the game is indecisive and the players play again. For example, with 5 players, if one player picks Rock, two pick Scissors, and two pick Paper, the round is indecisive and they play again. But if 3 pick Rock and 2 pick Scissors, then the Rock players win and the Scissors players lose the game. 1 Assume that the n players independently and randomly choose between Rock, Scissors, and Paper, with equal probabilities. Let X, Y, Z be the number of players who pick Rock, Scissors, Paper, respectively in one game.\n",
    "\n",
    "(a) Find the joint PMF of X, Y, Z.\n",
    "\n",
    "(b) Find the probability that the game is decisive. Simplify your answer (it should not involve\n",
    "a sum of many terms).\n",
    "\n",
    "(c) What is the probability that the game is decisive for n = 5? What is the limiting probability\n",
    "that a game is decisive as n ! 1? Explain briefly why your answer makes sense."
   ]
  },
  {
   "cell_type": "markdown",
   "id": "669363a3",
   "metadata": {},
   "source": [
    "ans1- **(a)** To find the joint probability mass function (PMF) of X, Y, Z, we need to consider the possible values they can take and their probabilities.\n",
    "\n",
    "Let's denote:\n",
    "- X: Number of players who pick Rock.\n",
    "- Y: Number of players who pick Scissors.\n",
    "- Z: Number of players who pick Paper.\n",
    "\n",
    "Since there are n players and each player independently and randomly chooses between Rock, Scissors, and Paper with equal probabilities, the possible values for X, Y, Z are {0, 1, 2, ..., n}.\n",
    "\n",
    "The probability of each combination (x, y, z) can be calculated using the multinomial distribution. The PMF of X, Y, Z is given by:\n",
    "\n",
    "`P(X = x, Y = y, Z = z) = (n choose x, y, z) * (1/3)^n`\n",
    "\n",
    "where (n choose x, y, z) is the multinomial coefficient.\n",
    "\n",
    "**(b)** To find the probability that the game is decisive, we need to consider the cases where exactly 2 of the 3 choices appear.\n",
    "\n",
    "There are three cases that make the game decisive:\n",
    "\n",
    "1. X > 0, Y > 0, Z = 0\n",
    "2. X > 0, Y = 0, Z > 0\n",
    "3. X = 0, Y > 0, Z > 0\n",
    "For each case, we can calculate the probability of occurrence and sum them up to get the total probability that the game is decisive.\n",
    "\n",
    "`P(Game is decisive) = P(X > 0, Y > 0, Z = 0) + P(X > 0, Y = 0, Z > 0) + P(X = 0, Y > 0, Z > 0)`\n",
    "\n",
    "**(c)** The probability that the game is decisive for n = 5 can be calculated using the formulas derived in part (b).\n",
    "\n",
    "To find the limiting probability as n approaches infinity, we can observe that as the number of players increases, the probability of having exactly 2 of the 3 choices appearing becomes more likely. This is because with a larger number of players, the chances of different choices being made increases, leading to a higher probability of a decisive game. Therefore, the limiting probability of a game being decisive as n approaches infinity is 1.\n",
    "\n",
    "This makes sense intuitively because as the number of players increases, it becomes less likely that all players will make the same choice, making it more likely that exactly 2 of the 3 choices will appear."
   ]
  }
 ],
 "metadata": {
  "kernelspec": {
   "display_name": "Python 3 (ipykernel)",
   "language": "python",
   "name": "python3"
  },
  "language_info": {
   "codemirror_mode": {
    "name": "ipython",
    "version": 3
   },
   "file_extension": ".py",
   "mimetype": "text/x-python",
   "name": "python",
   "nbconvert_exporter": "python",
   "pygments_lexer": "ipython3",
   "version": "3.9.7"
  }
 },
 "nbformat": 4,
 "nbformat_minor": 5
}
