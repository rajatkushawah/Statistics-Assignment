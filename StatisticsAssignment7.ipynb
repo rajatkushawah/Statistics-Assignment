{
 "cells": [
  {
   "cell_type": "markdown",
   "id": "8def1a9d",
   "metadata": {},
   "source": [
    "que1- A spam filter is designed by looking at commonly occurring phrases in spam. Suppose that 80% of email is spam. In 10% of the spam emails, the phrase “free money” is used, whereas this phrase is only used in 1% of non-spam emails. A new email has just arrived, which does mention “free money”. What is the probability that it is spam?"
   ]
  },
  {
   "cell_type": "markdown",
   "id": "166b4dc9",
   "metadata": {},
   "source": [
    "ans1- To find the probability that the new email is spam given that it mentions \"free money\", we can use Bayes' theorem.\n",
    "\n",
    "Let's denote the events:\n",
    "- S: Email is spam\n",
    "- N: Email is not spam\n",
    "- F: Email mentions \"free money\"\n",
    "\n",
    "We are looking for P(S|F), the probability that the email is spam given that it mentions \"free money\".\n",
    "\n",
    "Using Bayes' theorem, we have:\n",
    "\n",
    "`P(S|F) = (P(F|S) * P(S)) / P(F)`\n",
    "\n",
    "- P(F|S) is the probability that an email mentions \"free money\" given that it is spam, which is given as 0.10 (10%).\n",
    "- P(S) is the overall probability that an email is spam, which is given as 0.80 (80%).\n",
    "- P(F) is the probability that an email mentions \"free money\", which can be calculated using the law of total probability:\n",
    "\n",
    "`P(F) = P(F|S) * P(S) + P(F|N) * P(N)`\n",
    "\n",
    "- P(F|N) is the probability that an email mentions \"free money\" given that it is not spam, which is given as 0.01 (1%).\n",
    "- P(N) is the overall probability that an email is not spam, which is `1 - P(S) = 0.20 (20%)`.\n",
    "\n",
    "Now we can calculate P(F):\n",
    "\n",
    "`P(F) = P(F|S) * P(S) + P(F|N) * P(N)`\n",
    "\n",
    "`= 0.10 * 0.80 + 0.01 * 0.20`\n",
    "\n",
    "`= 0.080 + 0.002`\n",
    "\n",
    "`= 0.082`\n",
    "\n",
    "Finally, we can substitute the values back into the Bayes' theorem equation:\n",
    "\n",
    "`P(S|F) = (P(F|S) * P(S)) / P(F)`\n",
    "\n",
    "`= (0.10 * 0.80) / 0.082`\n",
    "\n",
    "`= 0.08 / 0.082`\n",
    "\n",
    "`≈ 0.976`\n",
    "\n",
    "Therefore, the probability that the new email is spam given that it mentions \"free money\" is approximately `0.976` or `97.6%`."
   ]
  }
 ],
 "metadata": {
  "kernelspec": {
   "display_name": "Python 3 (ipykernel)",
   "language": "python",
   "name": "python3"
  },
  "language_info": {
   "codemirror_mode": {
    "name": "ipython",
    "version": 3
   },
   "file_extension": ".py",
   "mimetype": "text/x-python",
   "name": "python",
   "nbconvert_exporter": "python",
   "pygments_lexer": "ipython3",
   "version": "3.9.7"
  }
 },
 "nbformat": 4,
 "nbformat_minor": 5
}
