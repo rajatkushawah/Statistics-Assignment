{
 "cells": [
  {
   "cell_type": "markdown",
   "id": "b52b96c3",
   "metadata": {},
   "source": [
    "que1- Raindrops are falling at an average rate of 20 drops per square inch per minute. What would be a reasonable distribution to use for the number of raindrops hitting a particular region measuring 5 inches2 in t minutes? Why? Using your chosen distribution, compute the probability that the region has no rain drops in a given 3 second time interval. A reasonable choice of distribution is P."
   ]
  },
  {
   "cell_type": "markdown",
   "id": "b2d8405d",
   "metadata": {},
   "source": [
    "ans1- A reasonable distribution to use for the number of raindrops hitting a particular region would be the Poisson distribution. The Poisson distribution is commonly used to model events that occur at a constant rate over a given time or space interval.\n",
    "\n",
    "In this case, the average rate of raindrops is given as 20 drops per square inch per minute. The Poisson distribution is appropriate because it models the probability of a certain number of events occurring in a fixed interval of time or space, given the average rate of occurrence.\n",
    "\n",
    "To compute the probability that the region has no raindrops in a given 3-second time interval, we can use the Poisson distribution formula:\n",
    "\n",
    "`P(X = k) = (e^(-λ) * λ^k) / k!`\n",
    "\n",
    "Where X is the random variable representing the number of raindrops, λ is the average rate of raindrops per unit area per unit time, and k is the number of raindrops (in this case, 0).\n",
    "\n",
    "Given that the time interval is 3 seconds and the region is 5 square inches, we can calculate the average rate of raindrops for this particular region as:\n",
    "\n",
    "`Average rate = (20 drops / (1 square inch * 1 minute)) * (5 square inches * (3 seconds / 60 seconds))`\n",
    "\n",
    "`λ = 5/2`\n",
    "\n",
    "Using this value of λ, we can substitute k = 0 into the Poisson distribution formula to calculate the probability:\n",
    "\n",
    "`P(X = 0) = (e^(-5/2) * (5/2)^0) / 0!`\n",
    "\n",
    "`P(X = 0) = e^(-5/2)`\n",
    "\n",
    "By calculating this expression, we can obtain the probability that the region has no raindrops in the given 3-second time interval."
   ]
  },
  {
   "cell_type": "markdown",
   "id": "8f085f5b",
   "metadata": {},
   "source": [
    "que2- Let X be a random day of the week, coded so that Monday is 1, Tuesday is 2, etc. (so X takes values 1, 2,..., 7, with equal probabilities). Let Y be the next day after X (again represented as an integer between 1 and 7). Do X and Y have the same distribution? What is P(X)."
   ]
  },
  {
   "cell_type": "markdown",
   "id": "0f05dca8",
   "metadata": {},
   "source": [
    "ans2- X and Y do not have the same distribution. While X is uniformly distributed over the days of the week with equal probabilities, Y is not uniformly distributed.\n",
    "\n",
    "To understand the distribution of Y, we can consider the possible outcomes based on the value of X:\n",
    "\n",
    "- If X is 1 (Monday), then Y can be 2 (Tuesday) with probability 1.\n",
    "- If X is 2 (Tuesday), then Y can be any day from 3 to 7 (Wednesday to Sunday) with equal probabilities of 1/5.\n",
    "- If X is 3 (Wednesday), then Y can be any day from 4 to 7 (Thursday to Sunday) with equal probabilities of 1/5.\n",
    "- If X is 4 (Thursday), then Y can be any day from 5 to 7 (Friday to Sunday) with equal probabilities of 1/4.\n",
    "- If X is 5 (Friday), then Y can be any day from 6 to 7 (Saturday to Sunday) with equal probabilities of 1/3.\n",
    "- If X is 6 (Saturday), then Y can only be 7 (Sunday) with probability 1.\n",
    "- If X is 7 (Sunday), then Y can only be 1 (Monday) with probability 1.\n",
    "\n",
    "From this analysis, we can see that Y has a different distribution compared to X. The probabilities for each day of the week are not equal for Y. The distribution of Y depends on the value of X, and the probabilities vary accordingly.\n",
    "\n",
    "Regarding P(X), since X is uniformly distributed over the days of the week, each day has an equal probability of 1/7. Therefore, P(X = i) = 1/7 for any day i from 1 to 7."
   ]
  }
 ],
 "metadata": {
  "kernelspec": {
   "display_name": "Python 3 (ipykernel)",
   "language": "python",
   "name": "python3"
  },
  "language_info": {
   "codemirror_mode": {
    "name": "ipython",
    "version": 3
   },
   "file_extension": ".py",
   "mimetype": "text/x-python",
   "name": "python",
   "nbconvert_exporter": "python",
   "pygments_lexer": "ipython3",
   "version": "3.9.7"
  }
 },
 "nbformat": 4,
 "nbformat_minor": 5
}
