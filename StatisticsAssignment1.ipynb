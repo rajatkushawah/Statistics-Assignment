{
 "cells": [
  {
   "cell_type": "markdown",
   "id": "e4ca8b01",
   "metadata": {},
   "source": [
    "que1- Harvard Law School courses often have assigned seating to facilitate the “Socratic method.” Suppose that there are 100 first year Harvard Law students, and each takes two courses: Torts and Contracts. Both are held in the same lecture hall (which has 100 seats), and the seating is uniformly random and independent for the two courses.\n",
    "\n",
    "(a) Find the probability that no one has the same seat for both courses (exactly; you should leave your answer as a sum).\n",
    "\n",
    "(b) Find a simple but accurate approximation to the probability that no one has the same seat for both courses.\n",
    "\n",
    "(c) Find a simple but accurate approximation to the probability that at least two students have the same seat for both courses."
   ]
  },
  {
   "cell_type": "markdown",
   "id": "95e517a0",
   "metadata": {},
   "source": [
    "ans1- **(a)** To find the probability that no one has the same seat for both courses, we can consider the number of possible permutations of the seating arrangements. In the first course, the first student can sit in any of the 100 seats. For the second course, there are 99 remaining seats available for the second student. Similarly, for each subsequent student, there is one less available seat. Therefore, the probability can be calculated as:\n",
    "\n",
    "P(no one has the same seat) = `(100/100) * (99/100) * (98/100) * ... * (1/100)`\n",
    "\n",
    "To find the exact probability, we need to sum up the probabilities for all possible permutations. It can be written as:\n",
    "\n",
    "P(no one has the same seat) = `Σ[(100!/((100-k)! * 100^k)) * (-1)^k]`\n",
    "\n",
    "where k ranges from 0 to 100.\n",
    "\n",
    "**(b)** For a simple approximation, we can use the inclusion-exclusion principle. The approximation for the probability that no one has the same seat for both courses can be calculated as:\n",
    "\n",
    "P(approximation) = `1 - (1/100)^100`\n",
    "\n",
    "**(c)** To find the probability that at least two students have the same seat for both courses, we can subtract the probability of no one having the same seat from 1:\n",
    "\n",
    "P(at least two students have the same seat) = `1 - P(no one has the same seat)`"
   ]
  },
  {
   "cell_type": "markdown",
   "id": "3ed65cc9",
   "metadata": {},
   "source": [
    "que2- There are 100 passengers lined up to board an airplane with 100 seats (with each seat assigned to one of the passengers). The first passenger in line crazily decides to sit in a randomly chosen seat (with all seats equally likely). Each subsequent passenger takes his or her assigned seat if available, and otherwise sits in a random available seat. What is the probability that the last passenger in line gets to sit in his or her assigned seat?"
   ]
  },
  {
   "cell_type": "markdown",
   "id": "ff48de11",
   "metadata": {},
   "source": [
    "ans2- The probability that the last passenger in line gets to sit in his or her assigned seat can be determined as follows:\n",
    "\n",
    "Let's consider the different possibilities for the first passenger:\n",
    "\n",
    "1. If the first passenger sits in his/her assigned seat, then everyone else will be able to sit in their assigned seats. In this case, the last passenger will also get to sit in his/her assigned seat.\n",
    "\n",
    "2. If the first passenger sits in the last passenger's seat, then the last passenger will not be able to sit in his/her assigned seat.\n",
    "\n",
    "3. If the first passenger sits in any other seat, it will create a chain reaction of passengers needing to choose a different seat. However, regardless of how this chain reaction unfolds, the last passenger will always have his/her assigned seat available since all the other passengers have already chosen their seats.\n",
    "\n",
    "Therefore, the probability that the last passenger gets to sit in his/her assigned seat is 1/2. This is because there are two equally likely possibilities for the first passenger (either sitting in their own seat or sitting in the last passenger's seat), and only in one of those cases will the last passenger get to sit in their assigned seat."
   ]
  }
 ],
 "metadata": {
  "kernelspec": {
   "display_name": "Python 3 (ipykernel)",
   "language": "python",
   "name": "python3"
  },
  "language_info": {
   "codemirror_mode": {
    "name": "ipython",
    "version": 3
   },
   "file_extension": ".py",
   "mimetype": "text/x-python",
   "name": "python",
   "nbconvert_exporter": "python",
   "pygments_lexer": "ipython3",
   "version": "3.9.7"
  }
 },
 "nbformat": 4,
 "nbformat_minor": 5
}
