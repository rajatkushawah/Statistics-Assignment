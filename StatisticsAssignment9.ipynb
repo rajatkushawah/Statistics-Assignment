{
 "cells": [
  {
   "cell_type": "markdown",
   "id": "a5088e17",
   "metadata": {},
   "source": [
    "que1- You are going to play 2 games of chess with an opponent whom you have never played against before (for the sake of this problem). Your opponent is equally likely to be a beginner, intermediate, or a master. Depending on\n",
    "\n",
    "(a) What is your probability of winning the first game?\n",
    "\n",
    "(b) Congratulations: you won the first game! Given this information, what is the probability that you will also win the second game.\n",
    "\n",
    "(c) Explain the distinction between assuming that the outcomes of the games are independent and assuming that they are conditionally independent given the opponent’s skill level.\n",
    "\n",
    "Which of these assumptions seems more reasonable, and why?"
   ]
  },
  {
   "cell_type": "markdown",
   "id": "ad553078",
   "metadata": {},
   "source": [
    "ans1- **(a)** Let's denote the events:\n",
    "- W1: You win the first game\n",
    "- B: Your opponent is a beginner\n",
    "- I: Your opponent is an intermediate\n",
    "- M: Your opponent is a master\n",
    "\n",
    "We need to calculate the probability of winning the first game, which can be expressed as:\n",
    "\n",
    "`P(W1) = P(W1|B) * P(B) + P(W1|I) * P(I) + P(W1|M) * P(M)`\n",
    "\n",
    "Since we have no information about the specific probabilities `P(W1|B), P(W1|I), and P(W1|M)`, we cannot calculate the exact probability of winning the first game without additional information.\n",
    "\n",
    "**(b)** Given that you won the first game, we are interested in the probability of winning the second game:\n",
    "`P(W2|W1)`\n",
    "\n",
    "This probability depends on the opponent's skill level and how the outcome of the second game is influenced by the outcome of the first game. Without additional information about the conditional probabilities `P(W2|W1, B), P(W2|W1, I), and P(W2|W1, M)`, we cannot determine the exact probability of winning the second game given that you won the first game.\n",
    "\n",
    "(c) Assuming the outcomes of the games are independent means that the outcome of each game does not depend on the opponent's skill level or the outcome of the other game. This assumption implies that winning or losing one game does not affect the probability of winning or losing the other game.\n",
    "\n",
    "Assuming the outcomes of the games are conditionally independent given the opponent's skill level means that the outcome of each game is independent of the opponent's skill level, given the skill level is known. This assumption implies that once we know the opponent's skill level, the outcome of each game is independent of the other game."
   ]
  }
 ],
 "metadata": {
  "kernelspec": {
   "display_name": "Python 3 (ipykernel)",
   "language": "python",
   "name": "python3"
  },
  "language_info": {
   "codemirror_mode": {
    "name": "ipython",
    "version": 3
   },
   "file_extension": ".py",
   "mimetype": "text/x-python",
   "name": "python",
   "nbconvert_exporter": "python",
   "pygments_lexer": "ipython3",
   "version": "3.9.7"
  }
 },
 "nbformat": 4,
 "nbformat_minor": 5
}
