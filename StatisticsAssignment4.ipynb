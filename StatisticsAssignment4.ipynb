{
 "cells": [
  {
   "cell_type": "markdown",
   "id": "f148ef9c",
   "metadata": {},
   "source": [
    "que1- Is it possible that an event is independent of itself? If so, when?"
   ]
  },
  {
   "cell_type": "markdown",
   "id": "065ed136",
   "metadata": {},
   "source": [
    "ans1- No, it is not possible for an event to be independent of itself. The concept of independence in probability theory refers to the relationship between two or more events. If two events are independent, the occurrence or non-occurrence of one event does not affect the probability of the other event.\n",
    "\n",
    "In order for events A and B to be independent, the following condition must hold: `P(A ∩ B) = P(A) * P(B)`\n",
    "\n",
    "If we consider the event A to be the same as the event B, then we have `P(A ∩ A) = P(A) * P(A)`, which simplifies to `P(A) = P(A)^2`. The only way this equation can hold is if P(A) is either 0 or 1, which means the event A is either certain to happen or certain not to happen. In such cases, the event A is considered to be independent of itself, but this is not a meaningful or practical scenario in most situations.\n",
    "\n",
    "In general, the concept of independence is used to describe the relationship between distinct events, where the occurrence of one event does not provide any information about the occurrence of the other event."
   ]
  },
  {
   "cell_type": "markdown",
   "id": "29e3df74",
   "metadata": {},
   "source": [
    "que2- Is it always true that if A and B are independent events, then Ac and Bc are independent events? Show that it is, or give a counterexample."
   ]
  },
  {
   "cell_type": "markdown",
   "id": "37175e51",
   "metadata": {},
   "source": [
    "ans2- No, it is not always true that if events A and B are independent, then their complements Ac and Bc are independent. This statement is not universally valid, and there can be counterexamples.\n",
    "\n",
    "To demonstrate this, let's consider a counterexample:\n",
    "\n",
    "Let A and B be two events defined as follows:\n",
    "- A: Tossing a fair coin and getting heads.\n",
    "- B: Tossing a fair coin and getting tails.\n",
    "\n",
    "In this case, A and B are independent events because the outcome of one coin toss does not affect the outcome of the other coin toss. Thus, \n",
    "\n",
    "`P(A) = P(B) = 1/2`.\n",
    "\n",
    "However, their complements Ac and Bc are:\n",
    "- Ac: Tossing a fair coin and getting tails.\n",
    "- Bc: Tossing a fair coin and getting heads.\n",
    "\n",
    "Since `P(Ac) = P(Bc) = 1/2`, we can see that `P(Ac) * P(Bc) = (1/2) * (1/2) = 1/4`.\n",
    "\n",
    "But P(Ac ∩ Bc) = 0, as the event of getting tails in one coin toss (Ac) cannot simultaneously coincide with the event of getting heads in the other coin toss (Bc).\n",
    "\n",
    "Therefore, in this counterexample, Ac and Bc are not independent events, disproving the claim that the complements of independent events are also independent."
   ]
  }
 ],
 "metadata": {
  "kernelspec": {
   "display_name": "Python 3 (ipykernel)",
   "language": "python",
   "name": "python3"
  },
  "language_info": {
   "codemirror_mode": {
    "name": "ipython",
    "version": 3
   },
   "file_extension": ".py",
   "mimetype": "text/x-python",
   "name": "python",
   "nbconvert_exporter": "python",
   "pygments_lexer": "ipython3",
   "version": "3.9.7"
  }
 },
 "nbformat": 4,
 "nbformat_minor": 5
}
