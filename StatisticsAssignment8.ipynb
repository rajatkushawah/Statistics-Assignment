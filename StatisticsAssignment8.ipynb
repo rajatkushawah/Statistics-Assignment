{
 "cells": [
  {
   "cell_type": "markdown",
   "id": "970af1d5",
   "metadata": {},
   "source": [
    "que1- A crime is committed by one of two suspects, A and B. Initially, there is equal evidence against both of them. In further investigation at the crime scene, it is found that the guilty party had a blood type found in 10% of the population. Suspect A does match this blood type, whereas the blood type of Suspect B is unknown. (a) Given this new information, what is the probability that A is the guilty party? (b) Given this new information, what is the probability that B’s blood type matches that found at the crime scene?"
   ]
  },
  {
   "cell_type": "markdown",
   "id": "35085386",
   "metadata": {},
   "source": [
    "ans1- Let's denote the events:\n",
    "- A: Suspect A is guilty\n",
    "- B: Suspect B is guilty\n",
    "- M: The blood type matches the one found at the crime scene\n",
    "\n",
    "**(a)** We want to find the probability that A is the guilty party given that the blood type matches:\n",
    "P(A|M)\n",
    "\n",
    "Using Bayes' theorem, we have:\n",
    "`P(A|M) = (P(M|A) * P(A)) / P(M)`\n",
    "\n",
    "- P(M|A) is the probability that the blood type matches given that A is guilty, which is 1 (100%).\n",
    "- P(A) is the prior probability that A is guilty, which is 0.5 (initially equal evidence against both suspects).\n",
    "- P(M) is the overall probability that the blood type matches, which can be calculated using the law of total probability:\n",
    "\n",
    "`P(M) = P(M|A) * P(A) + P(M|B) * P(B)`\n",
    "\n",
    "- P(M|A) is 1 (100%).\n",
    "- P(B) is the prior probability that B is guilty, which is also 0.5.\n",
    "- P(M|B) is the probability that the blood type matches given that B is guilty. Since B's blood type is unknown, we do not have this information.\n",
    "\n",
    "Since we don't have the probability P(M|B), we cannot calculate the exact value of P(A|M).\n",
    "\n",
    "**(b)** We want to find the probability that B's blood type matches the one found at the crime scene:\n",
    "P(M|B)\n",
    "\n",
    "Using the law of total probability, we have:\n",
    "`P(M|B) = P(M|A) * P(A) + P(M|B') * P(B')`\n",
    "\n",
    "- P(M|A) is 1 (100%).\n",
    "- P(B') is the complement of P(B), which is `1 - P(A) = 0.5`.\n",
    "- P(M|B') is the probability that the blood type matches given that B is not guilty. Since B's blood type is unknown, we do not have this information.\n",
    "\n",
    "Similar to the previous case, we cannot calculate the exact value of P(M|B) without knowing P(M|B').\n",
    "\n",
    "In both cases, the probabilities depend on the missing information about P(M|B) and P(M|B'), which is not provided. Therefore, we cannot determine the exact probabilities of (a) P(A|M) and (b) P(M|B) without additional information."
   ]
  }
 ],
 "metadata": {
  "kernelspec": {
   "display_name": "Python 3 (ipykernel)",
   "language": "python",
   "name": "python3"
  },
  "language_info": {
   "codemirror_mode": {
    "name": "ipython",
    "version": 3
   },
   "file_extension": ".py",
   "mimetype": "text/x-python",
   "name": "python",
   "nbconvert_exporter": "python",
   "pygments_lexer": "ipython3",
   "version": "3.9.7"
  }
 },
 "nbformat": 4,
 "nbformat_minor": 5
}
