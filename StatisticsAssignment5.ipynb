{
 "cells": [
  {
   "cell_type": "markdown",
   "id": "13faa09c",
   "metadata": {},
   "source": [
    "que1- Give an example of 3 events A, B, C which are pairwise independent but not independent.\n",
    "\n",
    "Hint: find an example where whether C occurs is completely determined if we know whether A occurred and whether B occurred, but completely undetermined if we know only one of these things."
   ]
  },
  {
   "cell_type": "markdown",
   "id": "3d33a0e6",
   "metadata": {},
   "source": [
    "ans1- Let's consider three events:\n",
    "\n",
    "- A: Rolling an even number on a fair six-sided die.\n",
    "- B: Rolling an odd number on a fair six-sided die.\n",
    "- C: Rolling a prime number on a fair six-sided die.\n",
    "\n",
    "In this example, we can see that A and B are pairwise independent because the outcome of one roll does not affect the outcome of the other roll. Similarly, A and C, as well as B and C, are also pairwise independent for the same reason.\n",
    "\n",
    "However, if we know whether A occurred and whether B occurred, then we can determine whether C occurred. If either A or B occurred, C cannot occur because there are no prime numbers among the even or odd numbers on a six-sided die.\n",
    "\n",
    "But if we only know one of these things, for example, if we only know that A occurred, then we cannot determine whether C occurred. The outcome of rolling an even number does not provide any information about the occurrence of a prime number.\n",
    "\n",
    "Therefore, A, B, and C are pairwise independent but not independent, as the occurrence of C is completely determined if we know whether A occurred and whether B occurred, but completely undetermined if we know only one of these things."
   ]
  },
  {
   "cell_type": "markdown",
   "id": "c82abc29",
   "metadata": {},
   "source": [
    "que2- A bag contains one marble which is either green or blue, with equal probabilities. A green marble is put in the bag (so there are 2 marbles now), and then a random marble is taken out. The marble taken out is green. What is the probability that the remaining marble is also green?"
   ]
  },
  {
   "cell_type": "markdown",
   "id": "f1ef2e16",
   "metadata": {},
   "source": [
    "ans2- To find the probability that the remaining marble is also green, we can use conditional probability.\n",
    "\n",
    "Let's denote the events:\n",
    "- A: The first marble drawn is green.\n",
    "- B: The remaining marble is green.\n",
    "\n",
    "We are given that event A occurred, i.e., the first marble drawn was green. We want to find the probability of event B, i.e., the remaining marble is green, given that event A occurred.\n",
    "\n",
    "To solve this, we can use Bayes' theorem:\n",
    "\n",
    "`P(B|A) = (P(A|B) * P(B)) / P(A)`\n",
    "\n",
    "P(A|B) is the probability that the first marble drawn is green given that the remaining marble is green. This is simply 1, because if the remaining marble is green, then the first marble must also have been green.\n",
    "\n",
    "P(B) is the probability that the remaining marble is green. Since initially there were two marbles, one green and one blue, the probability of the remaining marble being green is 1/2.\n",
    "\n",
    "P(A) is the probability that the first marble drawn is green. Initially, there was one green marble out of two marbles, so the probability of drawing a green marble is 1/2.\n",
    "\n",
    "Substituting these values into the formula, we get:\n",
    "\n",
    "`P(B|A) = (1 * 1/2) / (1/2) = 1`\n",
    "\n",
    "Therefore, the probability that the remaining marble is also green, given that the first marble drawn was green, is 1 or 100%."
   ]
  }
 ],
 "metadata": {
  "kernelspec": {
   "display_name": "Python 3 (ipykernel)",
   "language": "python",
   "name": "python3"
  },
  "language_info": {
   "codemirror_mode": {
    "name": "ipython",
    "version": 3
   },
   "file_extension": ".py",
   "mimetype": "text/x-python",
   "name": "python",
   "nbconvert_exporter": "python",
   "pygments_lexer": "ipython3",
   "version": "3.9.7"
  }
 },
 "nbformat": 4,
 "nbformat_minor": 5
}
