{
 "cells": [
  {
   "cell_type": "markdown",
   "id": "0b28501b",
   "metadata": {},
   "source": [
    "que1- A chicken lays n eggs. Each egg independently does or doesn’t hatch, with probability p of hatching. For each egg that hatches, the chick does or doesn’t survive (independently of the other eggs), with probability s of survival. Let N ⇠ Bin(n, p) be the number of eggs which hatch, X be the number of chicks which survive, and Y be the number of chicks which hatch but don’t survive (so X + Y = N). Find the marginal PMF of X, and the joint PMF of X and Y . Are they independent?"
   ]
  },
  {
   "cell_type": "markdown",
   "id": "0c4cd299",
   "metadata": {},
   "source": [
    "ans1- The marginal PMF of X, we can use the concept of conditional probability. Let's denote the event of an egg hatching as H and the event of a chick surviving as S. We know that N, the number of eggs hatched, follows a binomial distribution with parameters n and p.\n",
    "\n",
    "The marginal PMF of X, denoted as P(X = k), represents the probability of having k chicks survive. We can express it using conditional probability as follows:\n",
    "\n",
    "`P(X = k) = P(X = k | N eggs hatched) * P(N eggs hatched)`\n",
    "\n",
    "Since the number of eggs hatched N follows a binomial distribution, we have:\n",
    "\n",
    "`P(N eggs hatched) = (n choose N) * p^N * (1-p)^(n-N)`\n",
    "\n",
    "To determine `P(X = k | N eggs hatched)`, we consider that X is the number of successes (chicks surviving) in N independent Bernoulli trials (each egg hatching). Hence, the conditional probability can be expressed as:\n",
    "\n",
    "`P(X = k | N eggs hatched) = (N choose k) * s^k * (1-s)^(N-k)`\n",
    "\n",
    "Combining these expressions, we get the marginal PMF of X:\n",
    "\n",
    "`P(X = k) = (n choose N) * p^N * (1-p)^(n-N) * (N choose k) * s^k * (1-s)^(N-k)`\n",
    "\n",
    "To find the joint PMF of X and Y, we can use the fact that X + Y = N. We can express it as follows:\n",
    "\n",
    "`P(X = k, Y = m) = P(X = k, N = k + m)`\n",
    "\n",
    "Since X and N are not independent (X depends on the value of N), the joint PMF of X and Y is not simply the product of their marginal probabilities. Hence, X and Y are not independent.\n",
    "\n",
    "Please note that the specific calculations for the PMF values may depend on the values of n, p, and s provided in the problem."
   ]
  }
 ],
 "metadata": {
  "kernelspec": {
   "display_name": "Python 3 (ipykernel)",
   "language": "python",
   "name": "python3"
  },
  "language_info": {
   "codemirror_mode": {
    "name": "ipython",
    "version": 3
   },
   "file_extension": ".py",
   "mimetype": "text/x-python",
   "name": "python",
   "nbconvert_exporter": "python",
   "pygments_lexer": "ipython3",
   "version": "3.9.7"
  }
 },
 "nbformat": 4,
 "nbformat_minor": 5
}
